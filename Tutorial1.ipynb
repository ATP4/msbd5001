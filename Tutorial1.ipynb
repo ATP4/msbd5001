{
 "cells": [
  {
   "cell_type": "code",
   "execution_count": 4,
   "metadata": {},
   "outputs": [
    {
     "name": "stdout",
     "output_type": "stream",
     "text": [
      "Welcome to MSBD 5001!\n"
     ]
    }
   ],
   "source": [
    "# print functions\n",
    "# The content after # is comment, will not be executed\n",
    "print (\"Welcome to MSBD 5001!\")"
   ]
  },
  {
   "cell_type": "code",
   "execution_count": 5,
   "metadata": {},
   "outputs": [
    {
     "data": {
      "text/plain": [
       "int"
      ]
     },
     "execution_count": 5,
     "metadata": {},
     "output_type": "execute_result"
    }
   ],
   "source": [
    "a = 3; type(a)"
   ]
  },
  {
   "cell_type": "code",
   "execution_count": 6,
   "metadata": {},
   "outputs": [
    {
     "data": {
      "text/plain": [
       "float"
      ]
     },
     "execution_count": 6,
     "metadata": {},
     "output_type": "execute_result"
    }
   ],
   "source": [
    "b = 1.2; type(b)"
   ]
  },
  {
   "cell_type": "code",
   "execution_count": 7,
   "metadata": {},
   "outputs": [
    {
     "data": {
      "text/plain": [
       "str"
      ]
     },
     "execution_count": 7,
     "metadata": {},
     "output_type": "execute_result"
    }
   ],
   "source": [
    "c = \"MSBD 5001\"; type(c)"
   ]
  },
  {
   "cell_type": "code",
   "execution_count": 12,
   "metadata": {},
   "outputs": [
    {
     "name": "stdout",
     "output_type": "stream",
     "text": [
      "[1, 2]\n",
      "[1, 2, 3]\n",
      "1\n"
     ]
    }
   ],
   "source": [
    "d = [1,2,3]\n",
    "d.pop()\n",
    "print (d)\n",
    "d.append(3)\n",
    "print (d)\n",
    "print (d[0])"
   ]
  },
  {
   "cell_type": "code",
   "execution_count": 15,
   "metadata": {},
   "outputs": [
    {
     "name": "stdout",
     "output_type": "stream",
     "text": [
      "3509\n",
      "{'Kai Chen': 3510, 'Cecia Chan': 3525}\n",
      "dict_keys(['Kai Chen', 'Cecia Chan'])\n",
      "dict_values([3510, 3525])\n"
     ]
    }
   ],
   "source": [
    "# Basic operations on key\n",
    "e = {\"Kai Chen\": 3509, \"Cecia Chan\": 3525}\n",
    "print (e[\"Kai Chen\"])\n",
    "e[\"Kai Chen\"] = 3510\n",
    "print (e)\n",
    "print (e.keys())\n",
    "print (e.values())"
   ]
  },
  {
   "cell_type": "code",
   "execution_count": 17,
   "metadata": {},
   "outputs": [
    {
     "data": {
      "text/plain": [
       "False"
      ]
     },
     "execution_count": 17,
     "metadata": {},
     "output_type": "execute_result"
    }
   ],
   "source": [
    "# Use of = and ==\n",
    "2 == 3"
   ]
  },
  {
   "cell_type": "code",
   "execution_count": 18,
   "metadata": {},
   "outputs": [
    {
     "ename": "SyntaxError",
     "evalue": "can't assign to literal (<ipython-input-18-b39db39f6efc>, line 1)",
     "output_type": "error",
     "traceback": [
      "\u001b[0;36m  File \u001b[0;32m\"<ipython-input-18-b39db39f6efc>\"\u001b[0;36m, line \u001b[0;32m1\u001b[0m\n\u001b[0;31m    2 = 3\u001b[0m\n\u001b[0m         ^\u001b[0m\n\u001b[0;31mSyntaxError\u001b[0m\u001b[0;31m:\u001b[0m can't assign to literal\n"
     ]
    }
   ],
   "source": [
    "2 = 3"
   ]
  },
  {
   "cell_type": "code",
   "execution_count": 19,
   "metadata": {},
   "outputs": [],
   "source": [
    "# Functions\n",
    "def example_function(param1, param2):\n",
    "    print (\"Inputed values are: \")\n",
    "    print (param1)\n",
    "    print (param2)\n",
    "    return param1+param2"
   ]
  },
  {
   "cell_type": "code",
   "execution_count": 21,
   "metadata": {},
   "outputs": [
    {
     "name": "stdout",
     "output_type": "stream",
     "text": [
      "Inputed values are: \n",
      "1\n",
      "1\n",
      "2\n"
     ]
    }
   ],
   "source": [
    "answer = example_function(1,1)\n",
    "print (answer)"
   ]
  },
  {
   "cell_type": "code",
   "execution_count": 23,
   "metadata": {
    "scrolled": true
   },
   "outputs": [
    {
     "name": "stdout",
     "output_type": "stream",
     "text": [
      "Inputed values are: \n",
      "1\n",
      "1\n",
      "Inputed values are: \n",
      "1\n",
      "2\n"
     ]
    }
   ],
   "source": [
    "def example_function_with_defaults(param1, param2=1):\n",
    "    # param2 has default value, you can pass 1 value now\n",
    "    \n",
    "    # you can call a function inside a function\n",
    "    return example_function(param1, param2)\n",
    "a1 = example_function_with_defaults(1)\n",
    "a2 = example_function_with_defaults(1,2)"
   ]
  },
  {
   "cell_type": "code",
   "execution_count": 24,
   "metadata": {},
   "outputs": [
    {
     "name": "stdout",
     "output_type": "stream",
     "text": [
      "This is a dog\n"
     ]
    }
   ],
   "source": [
    "class Dog:\n",
    "    def __init__(self):\n",
    "        print (\"This is a dog\")\n",
    "        # give attribute name with self.name\n",
    "        self.name = \"test_dog_name\"\n",
    "        \n",
    "    def get_name(self):\n",
    "        print (self.name)\n",
    "        \n",
    "# construct object, __init__() will be called\n",
    "d = Dog()"
   ]
  },
  {
   "cell_type": "code",
   "execution_count": 25,
   "metadata": {},
   "outputs": [
    {
     "name": "stdout",
     "output_type": "stream",
     "text": [
      "test_dog_name\n"
     ]
    }
   ],
   "source": [
    "# Call member functions, no need to pass dog\n",
    "d.get_name()"
   ]
  },
  {
   "cell_type": "code",
   "execution_count": null,
   "metadata": {},
   "outputs": [],
   "source": []
  }
 ],
 "metadata": {
  "kernelspec": {
   "display_name": "Python 3",
   "language": "python",
   "name": "python3"
  },
  "language_info": {
   "codemirror_mode": {
    "name": "ipython",
    "version": 3
   },
   "file_extension": ".py",
   "mimetype": "text/x-python",
   "name": "python",
   "nbconvert_exporter": "python",
   "pygments_lexer": "ipython3",
   "version": "3.6.4"
  }
 },
 "nbformat": 4,
 "nbformat_minor": 2
}
